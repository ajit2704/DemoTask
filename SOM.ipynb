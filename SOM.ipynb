{
 "cells": [
  {
   "cell_type": "code",
   "execution_count": 1,
   "metadata": {},
   "outputs": [
    {
     "name": "stdout",
     "output_type": "stream",
     "text": [
      "Iris Data Loaded\n",
      "Sample pattern: [ 5.5         2.5999999   4.4000001   1.20000005]\n",
      "Class of the above pattern: Iris-versicolor\n"
     ]
    }
   ],
   "source": [
    "import numpy as np\n",
    "import math\n",
    "import random\n",
    "\n",
    "patterns = []\n",
    "classes = []\n",
    "\n",
    "filename = 'Iris_data.txt'\n",
    "file = open(filename,'r')\n",
    "\n",
    "for line in file.readlines():\n",
    "    row = line.strip().split(',')\n",
    "    patterns.append(row[0:4])\n",
    "    classes.append(row[4])\n",
    "print \"Iris Data Loaded\"\n",
    "file.close\n",
    "\n",
    "patterns = np.asarray(patterns,dtype=np.float32)\n",
    "\n",
    "sample_no = np.random.randint(0,len(patterns))\n",
    "\n",
    "print \"Sample pattern: \"+str(patterns[int(sample_no)])\n",
    "print \"Class of the above pattern: \"+str(classes[int(sample_no)])\n",
    "    "
   ]
  },
  {
   "cell_type": "code",
   "execution_count": 2,
   "metadata": {},
   "outputs": [
    {
     "name": "stdout",
     "output_type": "stream",
     "text": [
      "Heuristically computed appropriate no. of map units: 304\n"
     ]
    }
   ],
   "source": [
    "#A heuristic formula for calculating no. of map units\n",
    "#source: https://stackoverflow.com/questions/19163214/kohonen-self-organizing-maps-determining-the-number-of-neurons-and-grid-size\n",
    "\n",
    "def mapunits(input_len,size='small'):\n",
    "    \n",
    "    heuristic_map_units = 5*input_len**0.54321\n",
    "     \n",
    "    if size == 'big':\n",
    "        heuristic_map_units = 4*(heuristic_map_units)\n",
    "    else:\n",
    "        heuristic_map_units = 0.25*(heuristic_map_units)\n",
    "        \n",
    "    return heuristic_map_units\n",
    "        \n",
    "        \n",
    "map_units = mapunits(len(patterns),size='big')\n",
    "print \"Heuristically computed appropriate no. of map units: \"+str(int(map_units))\n",
    "\n",
    "#For reference purpose only - however this function can be used to automatically calculate the SOM dimensions\n",
    "#from data length. I will still be specifying the SOM dimensions manually, anyway."
   ]
  },
  {
   "cell_type": "code",
   "execution_count": 3,
   "metadata": {},
   "outputs": [],
   "source": [
    "input_dimensions = 4\n",
    "\n",
    "map_width = 9\n",
    "map_height = 5\n",
    "MAP = np.random.uniform(size=(map_height,map_width,input_dimensions))\n",
    "prev_MAP = np.zeros((map_height,map_width,input_dimensions))\n",
    "\n",
    "radius0 = max(map_width,map_height)/2\n",
    "learning_rate0 = 0.1\n",
    "\n",
    "coordinate_map = np.zeros([map_height,map_width,2],dtype=np.int32)\n",
    "\n",
    "for i in xrange(0,map_height):\n",
    "    for j in xrange(0,map_width):\n",
    "        coordinate_map[i][j] = [i,j]"
   ]
  },
  {
   "cell_type": "code",
   "execution_count": 4,
   "metadata": {},
   "outputs": [],
   "source": [
    "def Eucli_dists(MAP,x):\n",
    "    x = x.reshape((1,1,-1))\n",
    "    Eucli_MAP = MAP - x\n",
    "    Eucli_MAP = Eucli_MAP**2\n",
    "    Eucli_MAP = np.sqrt(np.sum(Eucli_MAP,2))\n",
    "    return Eucli_MAP\n",
    "\n",
    "epochs = 500\n",
    "radius=radius0\n",
    "learning_rate = learning_rate0\n",
    "max_iterations = epochs*len(patterns)\n",
    "too_many_iterations = 10*max_iterations\n",
    "BMU = np.zeros([2],dtype=np.int32)\n",
    "\n",
    "timestep=1\n",
    "e=0.001 \n",
    "flag=0\n",
    "\n",
    "epoch=0\n",
    "while epoch <= epochs:\n",
    "    \n",
    "    shuffle = random.sample(np.arange(0,len(patterns),1,'int'),len(patterns))\n",
    "  \n",
    "    for i in xrange(0,len(patterns)):\n",
    "        \n",
    "        # difference between prev_MAP and MAP\n",
    "        J = np.sqrt(np.sum(np.sum((prev_MAP-MAP)**2,2)))\n",
    "        # J = || euclidean distance between previous MAP and current MAP  ||\n",
    "\n",
    "        if  J<= e: #if converged (convergence criteria)\n",
    "            flag=1\n",
    "            break\n",
    "            \n",
    "        else:\n",
    "            \n",
    "            if timestep == max_iterations and timestep != too_many_iterations:\n",
    "                epochs += 1\n",
    "                max_iterations = epochs*len(patterns)\n",
    "            \n",
    "            pattern = patterns[shuffle[i]]\n",
    "            Eucli_MAP = Eucli_dists(MAP,pattern)\n",
    "        \n",
    "            BMU[0] = np.argmin(np.amin(Eucli_MAP,1),0)\n",
    "            BMU[1] = np.argmin(Eucli_MAP,1)[int(BMU[0])]\n",
    "    \n",
    "            Eucli_from_BMU = Eucli_dists(coordinate_map,BMU)  \n",
    "        \n",
    "            prev_MAP = np.copy(MAP)\n",
    "            \n",
    "            for i in xrange(0,map_height):\n",
    "                for j in xrange(0,map_width):\n",
    "                    distance = Eucli_from_BMU[i][j]\n",
    "                    if distance <= radius:\n",
    "                        theta = math.exp(-(distance**2)/(2*(radius**2)))\n",
    "                        MAP[i][j] = MAP[i][j] + theta*learning_rate*(pattern-MAP[i][j])\n",
    "            \n",
    "            learning_rate = learning_rate0*math.exp(-(timestep)/max_iterations)\n",
    "            time_constant = max_iterations/math.log(radius) \n",
    "            radius = radius0*math.exp(-(timestep)/time_constant)\n",
    "            \n",
    "            timestep+=1\n",
    "            \n",
    "    if flag==1:\n",
    "        break\n",
    "    epoch+=1\n",
    "    "
   ]
  },
  {
   "cell_type": "code",
   "execution_count": 5,
   "metadata": {},
   "outputs": [
    {
     "name": "stdout",
     "output_type": "stream",
     "text": [
      "750151\n",
      "0.0241663659322\n"
     ]
    }
   ],
   "source": [
    "print timestep\n",
    "print J"
   ]
  },
  {
   "cell_type": "code",
   "execution_count": 6,
   "metadata": {},
   "outputs": [
    {
     "name": "stdout",
     "output_type": "stream",
     "text": [
      "\n",
      "Red = Iris-Setosa\n",
      "Green = Iris-Virginica\n",
      "Blue = Iris-Versicolor\n",
      "\n"
     ]
    },
    {
     "data": {
      "text/plain": [
       "<matplotlib.image.AxesImage at 0x7f0515fda350>"
      ]
     },
     "execution_count": 6,
     "metadata": {},
     "output_type": "execute_result"
    },
    {
     "data": {
      "image/png": "[encoded data removed]",
      "text/plain": [
       "<matplotlib.figure.Figure at 0x7f0518724110>"
      ]
     },
     "metadata": {},
     "output_type": "display_data"
    }
   ],
   "source": [
    "import matplotlib.pyplot as plt\n",
    "from scipy.misc import toimage\n",
    "%matplotlib inline\n",
    "\n",
    "BMU = np.zeros([2],dtype=np.int32)\n",
    "result_map = np.zeros([map_height,map_width,3],dtype=np.float32)\n",
    "\n",
    "i=0\n",
    "for pattern in patterns:\n",
    "    \n",
    "    Eucli_MAP = Eucli_dists(MAP,pattern)\n",
    "    \n",
    "    BMU[0] = np.argmin(np.amin(Eucli_MAP,1),0)\n",
    "    BMU[1] = np.argmin(Eucli_MAP,1)[int(BMU[0])]\n",
    "    \n",
    "    x = BMU[0]\n",
    "    y = BMU[1]\n",
    "    \n",
    "    if classes[i] == 'Iris-setosa':\n",
    "        if result_map[x][y][0] <= 0.5:\n",
    "            result_map[x][y] += np.asarray([0.5,0,0])\n",
    "    elif classes[i] == 'Iris-virginica':\n",
    "        if result_map[x][y][1] <= 0.5:\n",
    "            result_map[x][y] += np.asarray([0,0.5,0])\n",
    "    elif classes[i] == 'Iris-versicolor':\n",
    "        if result_map[x][y][2] <= 0.5:\n",
    "            result_map[x][y] += np.asarray([0,0,0.5])\n",
    "    i+=1\n",
    "result_map = np.flip(result_map,0)\n",
    "    \n",
    "#print result_map\n",
    "\n",
    "print \"\\nRed = Iris-Setosa\"\n",
    "print \"Green = Iris-Virginica\"\n",
    "print \"Blue = Iris-Versicolor\\n\"\n",
    "\n",
    "plt.imshow(toimage(result_map),interpolation='nearest')"
   ]
  },
  {
   "cell_type": "code",
   "execution_count": null,
   "metadata": {},
   "outputs": [],
   "source": []
  }
 ],
 "metadata": {
  "kernelspec": {
   "display_name": "Python 2",
   "language": "python",
   "name": "python2"
  },
  "language_info": {
   "codemirror_mode": {
    "name": "ipython",
    "version": 2
   },
   "file_extension": ".py",
   "mimetype": "text/x-python",
   "name": "python",
   "nbconvert_exporter": "python",
   "pygments_lexer": "ipython2",
   "version": "2.7.12"
  }
 },
 "nbformat": 4,
 "nbformat_minor": 2
}
